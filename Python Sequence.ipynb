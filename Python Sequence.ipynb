{
 "cells": [
  {
   "cell_type": "code",
   "execution_count": 1,
   "id": "0834702d-f59f-4eb9-9c7b-9d4d4906c6e6",
   "metadata": {},
   "outputs": [],
   "source": [
    "# PYTHON SEQUENCES"
   ]
  },
  {
   "cell_type": "code",
   "execution_count": 2,
   "id": "b5813374-0421-4166-b605-7f47ceae6e21",
   "metadata": {},
   "outputs": [],
   "source": [
    "# TASK 1: List creation\n",
    "my_list=[25,'Bigbird',7.5,'Annie',2.5,'Cookie',6.4,'Grover',13,'Rosita']"
   ]
  },
  {
   "cell_type": "code",
   "execution_count": 3,
   "id": "be99ce5b-2bc5-4737-8912-9502adee87c3",
   "metadata": {},
   "outputs": [
    {
     "name": "stdout",
     "output_type": "stream",
     "text": [
      "25\n"
     ]
    }
   ],
   "source": [
    "# Indexing first element\n",
    "print(my_list[0])"
   ]
  },
  {
   "cell_type": "code",
   "execution_count": 4,
   "id": "41f57cdc-f127-4af7-b0e1-f33bb0b1230d",
   "metadata": {},
   "outputs": [
    {
     "name": "stdout",
     "output_type": "stream",
     "text": [
      "Rosita\n"
     ]
    }
   ],
   "source": [
    "# Indexing last element\n",
    "print(my_list[-1])"
   ]
  },
  {
   "cell_type": "code",
   "execution_count": 5,
   "id": "b1fc03f5-c23b-4640-a575-060ec8350556",
   "metadata": {},
   "outputs": [
    {
     "data": {
      "text/plain": [
       "10"
      ]
     },
     "execution_count": 5,
     "metadata": {},
     "output_type": "execute_result"
    }
   ],
   "source": [
    "# Length of list\n",
    "len(my_list)"
   ]
  },
  {
   "cell_type": "code",
   "execution_count": 6,
   "id": "405dbb9c-ec9e-48e8-946a-b8fcabe99452",
   "metadata": {},
   "outputs": [
    {
     "name": "stdout",
     "output_type": "stream",
     "text": [
      "[25, 'Bigbird', 7.5]\n"
     ]
    }
   ],
   "source": [
    "# TASK 2: List Slicing (Extraction and Printing of first 3 elements)\n",
    "print(my_list[0:3])"
   ]
  },
  {
   "cell_type": "code",
   "execution_count": 7,
   "id": "5b5ddbb3-9c2f-45e8-a6d8-32aaba1f07a5",
   "metadata": {},
   "outputs": [
    {
     "name": "stdout",
     "output_type": "stream",
     "text": [
      "[13, 'Rosita']\n"
     ]
    }
   ],
   "source": [
    "# Extraction and Printing of last 2 elements\n",
    "print(my_list[-2:])"
   ]
  },
  {
   "cell_type": "code",
   "execution_count": 8,
   "id": "c302976b-a6db-4133-995b-8164043f281d",
   "metadata": {},
   "outputs": [
    {
     "name": "stdout",
     "output_type": "stream",
     "text": [
      "[25, 7.5, 2.5, 6.4, 13]\n"
     ]
    }
   ],
   "source": [
    "# Extraction and Printing of every second element on the list.\n",
    "print(my_list[::2])"
   ]
  },
  {
   "cell_type": "code",
   "execution_count": 9,
   "id": "5debd903-b067-42de-bb29-3a315563c281",
   "metadata": {},
   "outputs": [
    {
     "name": "stdout",
     "output_type": "stream",
     "text": [
      "['Zamar', 'Bezaleel', 'Hephzibah', 'Judy', 'Zoe', 'Judah', 'Daniella', 'David', 'Sarah']\n"
     ]
    }
   ],
   "source": [
    "# TASK 3: Creating New List\n",
    "new_list=['Zamar','Bezaleel','Hephzibah','Judy','Zoe','Judah','Daniella','David','Sarah']\n",
    "print(new_list)"
   ]
  },
  {
   "cell_type": "code",
   "execution_count": 10,
   "id": "fe9d21ee-909e-40a2-8c00-925058f411c1",
   "metadata": {},
   "outputs": [
    {
     "name": "stdout",
     "output_type": "stream",
     "text": [
      "['Zamar', 'Bezaleel', 'Hephzibah', 'Judy', 'Zoe', 'Judah', 'Daniella', 'David', 'Sarah', 'Mark']\n"
     ]
    }
   ],
   "source": [
    "# Append new Item to list\n",
    "new_list.append('Mark')\n",
    "print(new_list)"
   ]
  },
  {
   "cell_type": "code",
   "execution_count": 11,
   "id": "6276e578-5796-49ce-8086-c95d90bfc817",
   "metadata": {},
   "outputs": [
    {
     "name": "stdout",
     "output_type": "stream",
     "text": [
      "['Zamar', 'Bezaleel', 'Hephzibah', 'Judy', 'Zoe', 'Judah', 'Daniella', 'David', 'Sarah', 'Mark', 'Daniel', 'Nancy', 'Cherish']\n"
     ]
    }
   ],
   "source": [
    "# Extend list with 3 new item\n",
    "new_list.extend(['Daniel','Nancy','Cherish'])\n",
    "print(new_list)"
   ]
  },
  {
   "cell_type": "code",
   "execution_count": 12,
   "id": "e36a1e76-096b-49f5-9cb2-556221d47604",
   "metadata": {},
   "outputs": [
    {
     "name": "stdout",
     "output_type": "stream",
     "text": [
      "['Zamar', 'Bezaleel', 'Jordan', 'Hephzibah', 'Judy', 'Zoe', 'Judah', 'Daniella', 'David', 'Sarah', 'Mark', 'Daniel', 'Nancy', 'Cherish']\n"
     ]
    }
   ],
   "source": [
    "# Insert one Item at the second position\n",
    "new_list.insert(2,'Jordan')\n",
    "print(new_list)"
   ]
  },
  {
   "cell_type": "code",
   "execution_count": 12,
   "id": "2beff8fa-61d6-4a42-b837-abe6f4c4fd77",
   "metadata": {},
   "outputs": [
    {
     "name": "stdout",
     "output_type": "stream",
     "text": [
      "['Zamar', 'Bezaleel', 'Jordan', 'Hephzibah', 'Judy', 'Zoe', 'Judah', 'Daniella', 'David', 'Sarah', 'Daniel', 'Nancy', 'Cherish']\n"
     ]
    }
   ],
   "source": [
    "# Remove Item from list by Value\n",
    "new_list.remove('Mark')\n",
    "print(new_list)"
   ]
  },
  {
   "cell_type": "code",
   "execution_count": 13,
   "id": "9c5b9ca7-9f5a-465d-bfff-7ca1365557a2",
   "metadata": {},
   "outputs": [
    {
     "name": "stdout",
     "output_type": "stream",
     "text": [
      "['Zamar', 'Bezaleel', 'Jordan', 'Hephzibah', 'Judy', 'Zoe', 'Judah', 'Daniella', 'David', 'Sarah', 'Mark', 'Daniel', 'Nancy']\n"
     ]
    }
   ],
   "source": [
    "# Pop last Item from List\n",
    "new_list.pop(-1)\n",
    "print(new_list)"
   ]
  },
  {
   "cell_type": "code",
   "execution_count": 14,
   "id": "ebdc0779-c820-47ae-94ad-48846b368bae",
   "metadata": {},
   "outputs": [
    {
     "name": "stdout",
     "output_type": "stream",
     "text": [
      "('Apple', 18, 'Lion', 6.3, ['Chair', 'Table', 'Rug'], 2.0, 'Banana', 18, 'Chair')\n"
     ]
    }
   ],
   "source": [
    "# Task 4: Tuple Creation\n",
    "my_tuple=('Apple',18,'Lion',6.3,['Chair','Table','Rug'],2.0,'Banana',18,'Chair')\n",
    "print(my_tuple)"
   ]
  },
  {
   "cell_type": "code",
   "execution_count": 15,
   "id": "e1afc2df-7751-4c75-9030-2cd900807f05",
   "metadata": {},
   "outputs": [
    {
     "name": "stdout",
     "output_type": "stream",
     "text": [
      "Apple\n"
     ]
    }
   ],
   "source": [
    "# Print first element of Tuple\n",
    "print(my_tuple[0])"
   ]
  },
  {
   "cell_type": "code",
   "execution_count": 16,
   "id": "4c8ad196-b77f-490b-8f96-f6579c7b948d",
   "metadata": {},
   "outputs": [
    {
     "name": "stdout",
     "output_type": "stream",
     "text": [
      "Chair\n"
     ]
    }
   ],
   "source": [
    "# Print Last element of Tuple\n",
    "print(my_tuple[-1])"
   ]
  },
  {
   "cell_type": "code",
   "execution_count": 17,
   "id": "86f5a83c-7c86-4c4d-bb00-72e42eefad34",
   "metadata": {},
   "outputs": [
    {
     "data": {
      "text/plain": [
       "1"
      ]
     },
     "execution_count": 17,
     "metadata": {},
     "output_type": "execute_result"
    }
   ],
   "source": [
    "# Using Count() in Tuple\n",
    "my_tuple.count('Chair')"
   ]
  },
  {
   "cell_type": "code",
   "execution_count": 18,
   "id": "961fe99b-d3a8-4222-959c-116a51092201",
   "metadata": {},
   "outputs": [
    {
     "data": {
      "text/plain": [
       "3"
      ]
     },
     "execution_count": 18,
     "metadata": {},
     "output_type": "execute_result"
    }
   ],
   "source": [
    "# Using Index() in Tuple\n",
    "my_tuple.index(6.3)"
   ]
  },
  {
   "cell_type": "code",
   "execution_count": 19,
   "id": "6ebe30f9-26cc-4536-9531-44dbaabca7ac",
   "metadata": {},
   "outputs": [
    {
     "name": "stdout",
     "output_type": "stream",
     "text": [
      "True\n"
     ]
    }
   ],
   "source": [
    "# TASK 5: Membership Testing ( my_list)\n",
    "print('Annie'in my_list)"
   ]
  },
  {
   "cell_type": "code",
   "execution_count": 20,
   "id": "a2b2dff5-f075-49d7-bc9e-11916a786a99",
   "metadata": {},
   "outputs": [
    {
     "name": "stdout",
     "output_type": "stream",
     "text": [
      "False\n"
     ]
    }
   ],
   "source": [
    "print('Elmo'in my_list)"
   ]
  },
  {
   "cell_type": "code",
   "execution_count": 21,
   "id": "0b5b77c0-535e-4d2e-99b6-2a8e9130edd0",
   "metadata": {},
   "outputs": [
    {
     "name": "stdout",
     "output_type": "stream",
     "text": [
      "True\n"
     ]
    }
   ],
   "source": [
    "# Membership Testing (my_tuple)\n",
    "print('Lion'in my_tuple)"
   ]
  },
  {
   "cell_type": "code",
   "execution_count": 22,
   "id": "ece54da7-0595-4ab4-9cea-88a4e96e72d5",
   "metadata": {},
   "outputs": [
    {
     "name": "stdout",
     "output_type": "stream",
     "text": [
      "False\n"
     ]
    }
   ],
   "source": [
    "print('4.0'in my_tuple)"
   ]
  },
  {
   "cell_type": "code",
   "execution_count": 23,
   "id": "ac63e181-8634-4d12-a854-b78f44d8c31a",
   "metadata": {},
   "outputs": [
    {
     "data": {
      "text/plain": [
       "10"
      ]
     },
     "execution_count": 23,
     "metadata": {},
     "output_type": "execute_result"
    }
   ],
   "source": [
    "# TASK 6: Length, Minimium, Maximum Functions **my_list**\n",
    "# Length() function on my_list\n",
    "len(my_list)"
   ]
  },
  {
   "cell_type": "code",
   "execution_count": 24,
   "id": "dc01dd65-e907-4694-9430-cb578ddcbbe2",
   "metadata": {},
   "outputs": [
    {
     "name": "stdout",
     "output_type": "stream",
     "text": [
      "8\n"
     ]
    }
   ],
   "source": [
    "# Minimum() function on my_list\n",
    "my_list_1=[41,17,8,13,11,26,25,11,90,54]\n",
    "print(min(my_list_1))"
   ]
  },
  {
   "cell_type": "code",
   "execution_count": 25,
   "id": "5564fd5a-dac2-4548-974f-7b7bd4f4a525",
   "metadata": {},
   "outputs": [
    {
     "name": "stdout",
     "output_type": "stream",
     "text": [
      "90\n"
     ]
    }
   ],
   "source": [
    "# Maximum() function on my_list\n",
    "print(max(my_list_1))"
   ]
  },
  {
   "cell_type": "code",
   "execution_count": 26,
   "id": "2be567ee-a8e4-4260-a05e-4bee2a2cf570",
   "metadata": {},
   "outputs": [
    {
     "data": {
      "text/plain": [
       "13"
      ]
     },
     "execution_count": 26,
     "metadata": {},
     "output_type": "execute_result"
    }
   ],
   "source": [
    "# Length, Minimium, Maximum Functions **new_list**\n",
    "# Length() function of new_list\n",
    "len(new_list)"
   ]
  },
  {
   "cell_type": "code",
   "execution_count": 27,
   "id": "e10a568a-e91f-481c-931f-eb86420de205",
   "metadata": {},
   "outputs": [
    {
     "name": "stdout",
     "output_type": "stream",
     "text": [
      "Bezaleel\n"
     ]
    }
   ],
   "source": [
    "# Minimum() function of new_list\n",
    "print(min(new_list))"
   ]
  },
  {
   "cell_type": "code",
   "execution_count": 29,
   "id": "1809d100-3a9b-4ba6-9ad4-03a7c00603e7",
   "metadata": {},
   "outputs": [
    {
     "name": "stdout",
     "output_type": "stream",
     "text": [
      "Zoe\n"
     ]
    }
   ],
   "source": [
    "# Maximum() function of new_list\n",
    "print(max(new_list))"
   ]
  },
  {
   "cell_type": "code",
   "execution_count": null,
   "id": "19f6f469-071c-4460-9d8f-f98414fc90a8",
   "metadata": {},
   "outputs": [],
   "source": []
  }
 ],
 "metadata": {
  "kernelspec": {
   "display_name": "Python 3 (ipykernel)",
   "language": "python",
   "name": "python3"
  },
  "language_info": {
   "codemirror_mode": {
    "name": "ipython",
    "version": 3
   },
   "file_extension": ".py",
   "mimetype": "text/x-python",
   "name": "python",
   "nbconvert_exporter": "python",
   "pygments_lexer": "ipython3",
   "version": "3.12.4"
  }
 },
 "nbformat": 4,
 "nbformat_minor": 5
}
