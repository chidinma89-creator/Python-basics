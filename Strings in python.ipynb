{
 "cells": [
  {
   "cell_type": "code",
   "execution_count": 3,
   "id": "6f9012b2-6478-4d71-8812-0501fb3f766a",
   "metadata": {},
   "outputs": [],
   "source": [
    "#STRING CREATION AND INDEXING\n",
    "my_string=\"Uneasy lies the head that wears a crown\""
   ]
  },
  {
   "cell_type": "code",
   "execution_count": 4,
   "id": "9e72a14e-7951-4364-a346-5e4ef3696acf",
   "metadata": {},
   "outputs": [
    {
     "name": "stdout",
     "output_type": "stream",
     "text": [
      "first char: U\n"
     ]
    }
   ],
   "source": [
    "# Printing the First character of 'my string'\n",
    "first_char=my_string[0]\n",
    "print(\"first char:\",first_char)"
   ]
  },
  {
   "cell_type": "code",
   "execution_count": 5,
   "id": "c258bd07-4ba0-4a1d-aebd-b4d324aca3f3",
   "metadata": {},
   "outputs": [
    {
     "name": "stdout",
     "output_type": "stream",
     "text": [
      "last char: n\n"
     ]
    }
   ],
   "source": [
    "# Printing the last character of 'my string'\n",
    "last_char=my_string[-1]\n",
    "print(\"last char:\",last_char)"
   ]
  },
  {
   "cell_type": "code",
   "execution_count": 6,
   "id": "85ec5038-592c-4404-abfb-8127451fa70d",
   "metadata": {},
   "outputs": [
    {
     "data": {
      "text/plain": [
       "39"
      ]
     },
     "execution_count": 6,
     "metadata": {},
     "output_type": "execute_result"
    }
   ],
   "source": [
    "# Printing length of String\n",
    "len(my_string)"
   ]
  },
  {
   "cell_type": "code",
   "execution_count": 7,
   "id": "7936b79f-badd-40fd-8a17-e77705534648",
   "metadata": {},
   "outputs": [],
   "source": [
    "# TASK 2: STRING SLICING"
   ]
  },
  {
   "cell_type": "code",
   "execution_count": 8,
   "id": "66f1d416-a6c3-4fa3-acd4-40cdddccb46e",
   "metadata": {},
   "outputs": [
    {
     "name": "stdout",
     "output_type": "stream",
     "text": [
      "sub string: Uneas\n"
     ]
    }
   ],
   "source": [
    "# Print 1st 5 characters\n",
    "sub_string=my_string[0:5]\n",
    "print(\"sub string:\",sub_string)"
   ]
  },
  {
   "cell_type": "code",
   "execution_count": 9,
   "id": "ca9328a6-c5c7-4e61-801e-26f140a0f13e",
   "metadata": {},
   "outputs": [
    {
     "name": "stdout",
     "output_type": "stream",
     "text": [
      "sub string: own\n"
     ]
    }
   ],
   "source": [
    "# Print last 3 characters\n",
    "sub_string=my_string[36:39]\n",
    "print(\"sub string:\",sub_string)"
   ]
  },
  {
   "cell_type": "code",
   "execution_count": 10,
   "id": "e4de41ee-27e0-4de3-8778-82eb0ebf922e",
   "metadata": {},
   "outputs": [
    {
     "name": "stdout",
     "output_type": "stream",
     "text": [
      "sec char: Ues isteha htwasacon\n"
     ]
    }
   ],
   "source": [
    "# Print every second character\n",
    "sec_char=my_string[::2]\n",
    "print(\"sec char:\",sec_char)"
   ]
  },
  {
   "cell_type": "code",
   "execution_count": 11,
   "id": "67d0ae34-f20e-488a-9e61-d6bbb2e1737d",
   "metadata": {},
   "outputs": [],
   "source": [
    "# TASK 3: COMMON STRING METHOD"
   ]
  },
  {
   "cell_type": "code",
   "execution_count": 12,
   "id": "132765eb-4b97-4ed4-8b3a-b1d7110f28ac",
   "metadata": {},
   "outputs": [
    {
     "name": "stdout",
     "output_type": "stream",
     "text": [
      "honourable\n"
     ]
    }
   ],
   "source": [
    "# Creating new string variables/ Conversion to Lower case\n",
    "new_string=\"HONOURABLE\"\n",
    "print(new_string.lower())"
   ]
  },
  {
   "cell_type": "code",
   "execution_count": 13,
   "id": "97d91a43-9f78-49f3-8a52-9d7c27fb81fd",
   "metadata": {},
   "outputs": [
    {
     "name": "stdout",
     "output_type": "stream",
     "text": [
      "HONOURABLE\n"
     ]
    }
   ],
   "source": [
    "# Creating new string variable/Conversion to Upper case \n",
    "new_string_1=\"honourable\"\n",
    "print(new_string_1.upper())"
   ]
  },
  {
   "cell_type": "code",
   "execution_count": 14,
   "id": "8275ee93-2ed1-4b16-821c-0df75457a57a",
   "metadata": {},
   "outputs": [
    {
     "name": "stdout",
     "output_type": "stream",
     "text": [
      "superlative\n"
     ]
    }
   ],
   "source": [
    "# Remove Leading/trailing Whitespace\n",
    "string_1=\"  superlative\"\n",
    "print(string_1.lstrip())"
   ]
  },
  {
   "cell_type": "code",
   "execution_count": 15,
   "id": "65abb818-b626-4563-8a91-dbe567b64e0a",
   "metadata": {},
   "outputs": [
    {
     "name": "stdout",
     "output_type": "stream",
     "text": [
      "  comparative\n"
     ]
    }
   ],
   "source": [
    "# Replace Word in a String with another Word\n",
    "print(string_1.replace(\"superl\",\"compar\"))"
   ]
  },
  {
   "cell_type": "code",
   "execution_count": 16,
   "id": "16f4db2c-1f83-4434-a749-64f1cd5787ae",
   "metadata": {},
   "outputs": [
    {
     "name": "stdout",
     "output_type": "stream",
     "text": [
      "['magnificent', 'building']\n"
     ]
    }
   ],
   "source": [
    "# Split String into list of words:\n",
    "string_2=\"magnificent building\"\n",
    "print(string_2.split())"
   ]
  },
  {
   "cell_type": "code",
   "execution_count": 18,
   "id": "cdb5954c-b440-4c19-8252-4f92b9c079b8",
   "metadata": {},
   "outputs": [
    {
     "name": "stdout",
     "output_type": "stream",
     "text": [
      "My nephew bears Zinachimdi and he is 20 years old.\n"
     ]
    }
   ],
   "source": [
    "# String Formatting:\n",
    "name=\"Zinachimdi\"\n",
    "age=20\n",
    "string_3=f\"My nephew bears {name} and he is {age} years old.\"\n",
    "print(string_3)"
   ]
  },
  {
   "cell_type": "code",
   "execution_count": null,
   "id": "2fbd3a2e-ebbd-46f5-87cc-bbc0d62e10c2",
   "metadata": {},
   "outputs": [],
   "source": []
  }
 ],
 "metadata": {
  "kernelspec": {
   "display_name": "Python 3 (ipykernel)",
   "language": "python",
   "name": "python3"
  },
  "language_info": {
   "codemirror_mode": {
    "name": "ipython",
    "version": 3
   },
   "file_extension": ".py",
   "mimetype": "text/x-python",
   "name": "python",
   "nbconvert_exporter": "python",
   "pygments_lexer": "ipython3",
   "version": "3.12.4"
  }
 },
 "nbformat": 4,
 "nbformat_minor": 5
}
