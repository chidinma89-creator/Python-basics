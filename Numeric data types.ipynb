{
 "cells": [
  {
   "cell_type": "code",
   "execution_count": 3,
   "id": "caa51a33-fed0-417e-b618-856be546e726",
   "metadata": {},
   "outputs": [],
   "source": [
    "# creating variables\n",
    "a=30\n",
    "b=15"
   ]
  },
  {
   "cell_type": "code",
   "execution_count": 4,
   "id": "e4625796-b5cf-4287-8d37-245a3eb09e21",
   "metadata": {},
   "outputs": [
    {
     "name": "stdout",
     "output_type": "stream",
     "text": [
      "45\n"
     ]
    }
   ],
   "source": [
    "# Integer Addition\n",
    "sum=a+b\n",
    "print(sum)"
   ]
  },
  {
   "cell_type": "code",
   "execution_count": 5,
   "id": "5b417c06-b7d4-45f9-9d8e-52fc3fa57988",
   "metadata": {},
   "outputs": [
    {
     "name": "stdout",
     "output_type": "stream",
     "text": [
      "15\n"
     ]
    }
   ],
   "source": [
    "# Subtraction\n",
    "sub=a-b\n",
    "print(sub)"
   ]
  },
  {
   "cell_type": "code",
   "execution_count": 6,
   "id": "719e90d0-5811-4219-aa7d-173c76324b5f",
   "metadata": {},
   "outputs": [
    {
     "name": "stdout",
     "output_type": "stream",
     "text": [
      "450\n"
     ]
    }
   ],
   "source": [
    "# Multiplication\n",
    "prod=a*b\n",
    "print(prod)"
   ]
  },
  {
   "cell_type": "code",
   "execution_count": 7,
   "id": "816a4665-453d-4814-9c35-a3127cf485e4",
   "metadata": {},
   "outputs": [
    {
     "name": "stdout",
     "output_type": "stream",
     "text": [
      "2.0\n"
     ]
    }
   ],
   "source": [
    "# Division\n",
    "div=a/b\n",
    "print(div)"
   ]
  },
  {
   "cell_type": "code",
   "execution_count": 8,
   "id": "f950e8ca-4480-4ff9-9a65-e7cdb656c726",
   "metadata": {},
   "outputs": [
    {
     "name": "stdout",
     "output_type": "stream",
     "text": [
      "2\n"
     ]
    }
   ],
   "source": [
    "# Floor division\n",
    "floor_div=a//b\n",
    "print(floor_div)"
   ]
  },
  {
   "cell_type": "code",
   "execution_count": 9,
   "id": "22847df3-ab67-4bc5-877e-ca14faf479ca",
   "metadata": {},
   "outputs": [
    {
     "name": "stdout",
     "output_type": "stream",
     "text": [
      "0\n"
     ]
    }
   ],
   "source": [
    "# Modulus operation\n",
    "mod=a%b\n",
    "print(mod)"
   ]
  },
  {
   "cell_type": "code",
   "execution_count": 10,
   "id": "02e38cf4-a27f-4df3-a947-071f707f5178",
   "metadata": {},
   "outputs": [
    {
     "name": "stdout",
     "output_type": "stream",
     "text": [
      "14348907000000000000000\n"
     ]
    }
   ],
   "source": [
    "# Exponential\n",
    "exp=a**b\n",
    "print(exp)"
   ]
  },
  {
   "cell_type": "code",
   "execution_count": 11,
   "id": "69c05167-9048-4718-9917-442af4d3eb5f",
   "metadata": {},
   "outputs": [],
   "source": [
    "# FLOAT OPERATIONS"
   ]
  },
  {
   "cell_type": "code",
   "execution_count": 12,
   "id": "59675c80-b8ae-4657-9130-18e38502e400",
   "metadata": {},
   "outputs": [],
   "source": [
    "# Creating float variables.\n",
    "x=20.5\n",
    "y=5.5"
   ]
  },
  {
   "cell_type": "code",
   "execution_count": 13,
   "id": "ed5ade2c-755a-4e4e-a661-3368d0bfa4b1",
   "metadata": {},
   "outputs": [
    {
     "name": "stdout",
     "output_type": "stream",
     "text": [
      "26.0\n"
     ]
    }
   ],
   "source": [
    "# Float Addition\n",
    "float_sum=x+y\n",
    "print(float_sum)"
   ]
  },
  {
   "cell_type": "code",
   "execution_count": 14,
   "id": "adcb48ce-8315-40d8-a0ed-3b89c5696d3d",
   "metadata": {},
   "outputs": [
    {
     "name": "stdout",
     "output_type": "stream",
     "text": [
      "15.0\n"
     ]
    }
   ],
   "source": [
    "# Float Subtraction\n",
    "float_sub=x-y\n",
    "print(float_sub)"
   ]
  },
  {
   "cell_type": "code",
   "execution_count": 15,
   "id": "93d984e4-e622-40a1-b22a-b06133e7787e",
   "metadata": {},
   "outputs": [
    {
     "name": "stdout",
     "output_type": "stream",
     "text": [
      "112.75\n"
     ]
    }
   ],
   "source": [
    "# Float Multiplication\n",
    "mul_float=x*y\n",
    "print(mul_float)"
   ]
  },
  {
   "cell_type": "code",
   "execution_count": 16,
   "id": "51987a9f-47f6-4535-92df-1961f4a4ce4b",
   "metadata": {},
   "outputs": [
    {
     "name": "stdout",
     "output_type": "stream",
     "text": [
      "3.727272727272727\n"
     ]
    }
   ],
   "source": [
    "# Float Division\n",
    "div_float=x/y\n",
    "print(div_float)"
   ]
  },
  {
   "cell_type": "code",
   "execution_count": 17,
   "id": "0ea067b6-1fbe-4812-9cd0-81d08c4d6bb5",
   "metadata": {},
   "outputs": [
    {
     "name": "stdout",
     "output_type": "stream",
     "text": [
      "Round result: 3.73\n"
     ]
    }
   ],
   "source": [
    "# Rounding to 2 decimal place\n",
    "round_result=round(div_float,2)\n",
    "print(\"Round result:\",round_result)"
   ]
  },
  {
   "cell_type": "code",
   "execution_count": 18,
   "id": "77f350e5-b33c-43c6-bfaa-ea4206bb877e",
   "metadata": {},
   "outputs": [],
   "source": [
    "# COMPLEX NUMBERS "
   ]
  },
  {
   "cell_type": "code",
   "execution_count": 19,
   "id": "a2f75a8f-55f4-4749-bc76-3f85ca2dd9e2",
   "metadata": {},
   "outputs": [],
   "source": [
    "# Creating variables\n",
    "c1=6+3j\n",
    "c2=5+4j"
   ]
  },
  {
   "cell_type": "code",
   "execution_count": 20,
   "id": "0fd2a34b-8860-417a-8cd0-398cf46ba57a",
   "metadata": {},
   "outputs": [
    {
     "name": "stdout",
     "output_type": "stream",
     "text": [
      "(11+7j)\n"
     ]
    }
   ],
   "source": [
    "# Addition of complex numbers\n",
    "c_sum=c1+c2\n",
    "print(c_sum)"
   ]
  },
  {
   "cell_type": "code",
   "execution_count": 21,
   "id": "a429acec-6590-4469-975a-8eb9fde25163",
   "metadata": {},
   "outputs": [
    {
     "name": "stdout",
     "output_type": "stream",
     "text": [
      "(1-1j)\n"
     ]
    }
   ],
   "source": [
    "# Subtraction of complex numbers\n",
    "c_sub=c1-c2\n",
    "print(c_sub)"
   ]
  },
  {
   "cell_type": "code",
   "execution_count": 22,
   "id": "4ede213e-2240-455d-87c2-e815124bc9d9",
   "metadata": {},
   "outputs": [
    {
     "name": "stdout",
     "output_type": "stream",
     "text": [
      "(18+39j)\n"
     ]
    }
   ],
   "source": [
    "# Multiplying complex numbers\n",
    "prod_c=c1*c2\n",
    "print(prod_c)"
   ]
  },
  {
   "cell_type": "code",
   "execution_count": 23,
   "id": "614e0959-4eb3-490e-956c-eb7dba3b66db",
   "metadata": {},
   "outputs": [
    {
     "name": "stdout",
     "output_type": "stream",
     "text": [
      "(1.024390243902439-0.21951219512195133j)\n"
     ]
    }
   ],
   "source": [
    "# Dividing complex numbers\n",
    "div_c=c1/c2\n",
    "print(div_c)"
   ]
  },
  {
   "cell_type": "code",
   "execution_count": 24,
   "id": "f7011c8d-0d7b-433e-a576-500e1a26a095",
   "metadata": {},
   "outputs": [
    {
     "name": "stdout",
     "output_type": "stream",
     "text": [
      "div_c-real: 1.024390243902439\n"
     ]
    }
   ],
   "source": [
    "# The Real part of eqn\n",
    "print(\"div_c-real:\", div_c.real)"
   ]
  },
  {
   "cell_type": "code",
   "execution_count": 25,
   "id": "e01e0409-1e2d-4942-baf0-54b528ff199d",
   "metadata": {},
   "outputs": [
    {
     "name": "stdout",
     "output_type": "stream",
     "text": [
      "div_c-imag: -0.21951219512195133\n"
     ]
    }
   ],
   "source": [
    "# The Imaginary part of the eqn\n",
    "print(\"div_c-imag:\",div_c.imag)"
   ]
  },
  {
   "cell_type": "code",
   "execution_count": 25,
   "id": "2cee1229-ae98-4ef1-b9ce-b535ef666b7a",
   "metadata": {},
   "outputs": [],
   "source": [
    "# TYPE CONVERSION "
   ]
  },
  {
   "cell_type": "code",
   "execution_count": 26,
   "id": "326a11f3-cb4e-40f0-8ba9-e0532e6f6e7d",
   "metadata": {},
   "outputs": [
    {
     "name": "stdout",
     "output_type": "stream",
     "text": [
      "13.0\n"
     ]
    }
   ],
   "source": [
    "# Conversion from Integer to Float\n",
    "num_1=13\n",
    "int_to_float=float(num_1)\n",
    "print(int_to_float)"
   ]
  },
  {
   "cell_type": "code",
   "execution_count": 27,
   "id": "5ab993a5-9424-4311-b989-2a13c0fe882d",
   "metadata": {},
   "outputs": [
    {
     "name": "stdout",
     "output_type": "stream",
     "text": [
      "30\n"
     ]
    }
   ],
   "source": [
    "# Conversion from Float to Integer\n",
    "num_2=30.5\n",
    "float_to_int=int(num_2)\n",
    "print(float_to_int)"
   ]
  },
  {
   "cell_type": "code",
   "execution_count": 28,
   "id": "2615bac6-330e-45e3-bc70-10014e5eb85c",
   "metadata": {},
   "outputs": [
    {
     "name": "stdout",
     "output_type": "stream",
     "text": [
      "int to complex: (8+0j)\n"
     ]
    }
   ],
   "source": [
    "# Conversion from Real to Complex numbers\n",
    "num_3=8\n",
    "num_3=complex(num_3)\n",
    "print(\"int to complex:\",num_3)"
   ]
  },
  {
   "cell_type": "code",
   "execution_count": null,
   "id": "63cc89a1-5a08-41ff-bcc8-c31871e48f23",
   "metadata": {},
   "outputs": [],
   "source": []
  },
  {
   "cell_type": "code",
   "execution_count": null,
   "id": "b51bc1a0-fb82-461a-9e27-17f8ebc711bd",
   "metadata": {},
   "outputs": [],
   "source": []
  },
  {
   "cell_type": "code",
   "execution_count": null,
   "id": "3d774245-7c55-467b-8e7d-8db0358736c4",
   "metadata": {},
   "outputs": [],
   "source": []
  },
  {
   "cell_type": "code",
   "execution_count": null,
   "id": "df889cf0-c357-4ec6-a189-dd608fe4e2da",
   "metadata": {},
   "outputs": [],
   "source": []
  },
  {
   "cell_type": "code",
   "execution_count": null,
   "id": "d5cca1bf-8e5c-4802-a414-47d6e2123cdb",
   "metadata": {},
   "outputs": [],
   "source": []
  },
  {
   "cell_type": "code",
   "execution_count": null,
   "id": "ff972d5e-a525-4b61-9dcd-f0787fe96368",
   "metadata": {},
   "outputs": [],
   "source": []
  },
  {
   "cell_type": "code",
   "execution_count": null,
   "id": "2cbd21ab-168f-47e0-8b7e-e536c33d12e4",
   "metadata": {},
   "outputs": [],
   "source": []
  },
  {
   "cell_type": "code",
   "execution_count": null,
   "id": "2a2034c6-318c-400a-9fac-a0bc1662d31f",
   "metadata": {},
   "outputs": [],
   "source": []
  },
  {
   "cell_type": "code",
   "execution_count": null,
   "id": "03e6d5b6-a1bd-40d7-b3be-fd76621fa330",
   "metadata": {},
   "outputs": [],
   "source": []
  },
  {
   "cell_type": "code",
   "execution_count": null,
   "id": "7cd40dd0-b435-4811-8615-bb0792b8b1f1",
   "metadata": {},
   "outputs": [],
   "source": []
  },
  {
   "cell_type": "code",
   "execution_count": null,
   "id": "00e6022f-9540-4f1b-9931-e13a05f596fa",
   "metadata": {},
   "outputs": [],
   "source": []
  },
  {
   "cell_type": "code",
   "execution_count": null,
   "id": "cdd47d13-312e-4782-ac61-9f3d7847f1a2",
   "metadata": {},
   "outputs": [],
   "source": []
  },
  {
   "cell_type": "code",
   "execution_count": null,
   "id": "81f5c53a-6bee-475b-9ca2-126d801f560d",
   "metadata": {},
   "outputs": [],
   "source": []
  },
  {
   "cell_type": "code",
   "execution_count": null,
   "id": "d5c54668-114b-4814-88db-164211e5334d",
   "metadata": {},
   "outputs": [],
   "source": []
  },
  {
   "cell_type": "code",
   "execution_count": null,
   "id": "06e104a9-6012-422a-9078-fb33b9d6930d",
   "metadata": {},
   "outputs": [],
   "source": []
  }
 ],
 "metadata": {
  "kernelspec": {
   "display_name": "Python 3 (ipykernel)",
   "language": "python",
   "name": "python3"
  },
  "language_info": {
   "codemirror_mode": {
    "name": "ipython",
    "version": 3
   },
   "file_extension": ".py",
   "mimetype": "text/x-python",
   "name": "python",
   "nbconvert_exporter": "python",
   "pygments_lexer": "ipython3",
   "version": "3.12.4"
  }
 },
 "nbformat": 4,
 "nbformat_minor": 5
}
