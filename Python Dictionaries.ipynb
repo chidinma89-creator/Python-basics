{
 "cells": [
  {
   "cell_type": "code",
   "execution_count": 1,
   "id": "429e0b75-e7a7-440b-82d1-8da8d032fddc",
   "metadata": {},
   "outputs": [],
   "source": [
    "# PYTHON DICTIONARIES"
   ]
  },
  {
   "cell_type": "code",
   "execution_count": 2,
   "id": "6052fffd-cf1e-4e93-b792-28b56520ada4",
   "metadata": {},
   "outputs": [
    {
     "name": "stdout",
     "output_type": "stream",
     "text": [
      "{'name': 'Daniella', 'age': '20', 'course': 'Mechanics', 'GPA': '4.8'}\n"
     ]
    }
   ],
   "source": [
    "# Dictionary Creation\n",
    "student_info=dict(name='Daniella',age='20',course='Mechanics',GPA='4.8')\n",
    "print(student_info)"
   ]
  },
  {
   "cell_type": "code",
   "execution_count": 3,
   "id": "ebd7fbdc-c382-4b10-871a-ea4a0b35fd1d",
   "metadata": {},
   "outputs": [
    {
     "name": "stdout",
     "output_type": "stream",
     "text": [
      "Mechanics\n"
     ]
    }
   ],
   "source": [
    "# Accessing Value associated with the Course key\n",
    "print(student_info['course'])"
   ]
  },
  {
   "cell_type": "code",
   "execution_count": 4,
   "id": "9de7930c-a424-4720-a682-7266e133594a",
   "metadata": {},
   "outputs": [
    {
     "name": "stdout",
     "output_type": "stream",
     "text": [
      "4.8\n"
     ]
    }
   ],
   "source": [
    "# Accessing Value associated with GPA key\n",
    "print(student_info['GPA'])"
   ]
  },
  {
   "cell_type": "code",
   "execution_count": 5,
   "id": "2aab24b3-ed2a-4386-82e9-c31d586ec6a8",
   "metadata": {},
   "outputs": [
    {
     "name": "stdout",
     "output_type": "stream",
     "text": [
      "{'name': 'Daniella', 'age': 21, 'course': 'Mechanics', 'GPA': '4.8'}\n"
     ]
    }
   ],
   "source": [
    "# Modifying Dictionary-Age update\n",
    "age_info=dict(age=21)\n",
    "student_info.update(age_info)\n",
    "print(student_info)"
   ]
  },
  {
   "cell_type": "code",
   "execution_count": 6,
   "id": "30406056-be58-4dca-a037-cdf6726eb941",
   "metadata": {},
   "outputs": [
    {
     "name": "stdout",
     "output_type": "stream",
     "text": [
      "{'name': 'Daniella', 'age': 21, 'course': 'Mechanics', 'GPA': '4.8', 'graduation year': 2025}\n"
     ]
    }
   ],
   "source": [
    "# Adding new key-value pair(Graduation year)\n",
    "student_info['graduation year']=2025\n",
    "print(student_info)"
   ]
  },
  {
   "cell_type": "code",
   "execution_count": 7,
   "id": "4eb79760-725c-46ec-8c5e-31e64a4c7db5",
   "metadata": {},
   "outputs": [
    {
     "name": "stdout",
     "output_type": "stream",
     "text": [
      "{'name': 'Daniella', 'age': 21, 'course': 'Mechanics', 'graduation year': 2025}\n"
     ]
    }
   ],
   "source": [
    "# Removing key from dictionary\n",
    "del student_info['GPA']\n",
    "print(student_info)"
   ]
  },
  {
   "cell_type": "code",
   "execution_count": 8,
   "id": "75456d5e-0fbf-48cd-8add-83f20369d4fe",
   "metadata": {},
   "outputs": [
    {
     "name": "stdout",
     "output_type": "stream",
     "text": [
      "{'name': 'Daniella', 'age': 21, 'graduation year': 2025}\n"
     ]
    }
   ],
   "source": [
    "# Removing Key from dictionary using 'pop'\n",
    "course=student_info.pop('course')\n",
    "print(student_info)"
   ]
  },
  {
   "cell_type": "code",
   "execution_count": 9,
   "id": "1863dbff-927f-478a-bdbc-a4bb962a46a9",
   "metadata": {},
   "outputs": [
    {
     "name": "stdout",
     "output_type": "stream",
     "text": [
      "Mechanics\n"
     ]
    }
   ],
   "source": [
    "# popped item\n",
    "print(course)"
   ]
  },
  {
   "cell_type": "code",
   "execution_count": 10,
   "id": "c037467f-c5b3-4299-b03f-f90d02d71543",
   "metadata": {},
   "outputs": [
    {
     "name": "stdout",
     "output_type": "stream",
     "text": [
      "{'Physics': 'Mechanics and heat', 'Phy310': 'Quantum Mechanics', 'credit unit': 5}\n"
     ]
    }
   ],
   "source": [
    "# Creating new dictionary\n",
    "course_info={'Physics':'Mechanics and heat','Phy310':'Quantum Mechanics','credit unit':5}\n",
    "print(course_info)"
   ]
  },
  {
   "cell_type": "code",
   "execution_count": 11,
   "id": "8e8492ab-69a6-4051-b6b0-2186f8fb0d51",
   "metadata": {},
   "outputs": [
    {
     "name": "stdout",
     "output_type": "stream",
     "text": [
      "dict_keys(['Physics', 'Phy310', 'credit unit'])\n"
     ]
    }
   ],
   "source": [
    "# Print keys in dictionary\n",
    "print(course_info.keys())"
   ]
  },
  {
   "cell_type": "code",
   "execution_count": 12,
   "id": "d1aa45bd-894b-4d5e-9811-9694be571c42",
   "metadata": {},
   "outputs": [
    {
     "name": "stdout",
     "output_type": "stream",
     "text": [
      "dict_values(['Mechanics and heat', 'Quantum Mechanics', 5])\n"
     ]
    }
   ],
   "source": [
    "# Print Values in dictionary\n",
    "print(course_info.values())"
   ]
  },
  {
   "cell_type": "code",
   "execution_count": 13,
   "id": "2b4727a6-3c21-40ba-b503-50ec988dd783",
   "metadata": {},
   "outputs": [
    {
     "name": "stdout",
     "output_type": "stream",
     "text": [
      "dict_items([('Physics', 'Mechanics and heat'), ('Phy310', 'Quantum Mechanics'), ('credit unit', 5)])\n"
     ]
    }
   ],
   "source": [
    "# Print key-Value pairs in dictionary as tuple\n",
    "print(course_info.items())"
   ]
  },
  {
   "cell_type": "code",
   "execution_count": 15,
   "id": "f9e75c9c-37d8-4a7a-9a07-365b46e5f4a8",
   "metadata": {},
   "outputs": [
    {
     "name": "stdout",
     "output_type": "stream",
     "text": [
      "{'Instructor name': 'Autumn Oceans', 'Department': 'Physics'}\n"
     ]
    }
   ],
   "source": [
    "# Creating new dictionary\n",
    "instructor_info={'Instructor name':'Autumn Oceans','Department':'Physics'}\n",
    "print(instructor_info)"
   ]
  },
  {
   "cell_type": "code",
   "execution_count": 16,
   "id": "75c7cf7d-2839-4d11-9645-48549ecdeab8",
   "metadata": {},
   "outputs": [
    {
     "name": "stdout",
     "output_type": "stream",
     "text": [
      "{'Physics': 'Mechanics and heat', 'Phy310': 'Quantum Mechanics', 'credit unit': 5, 'Instructor name': 'Autumn Oceans', 'Department': 'Physics'}\n"
     ]
    }
   ],
   "source": [
    "# Updating Course_info with Instructor_Info\n",
    "course_info.update(instructor_info)\n",
    "print(course_info)"
   ]
  },
  {
   "cell_type": "code",
   "execution_count": 17,
   "id": "034c423b-30c7-40d6-9e2e-36833512948d",
   "metadata": {},
   "outputs": [
    {
     "name": "stdout",
     "output_type": "stream",
     "text": [
      "Not in dictionary\n"
     ]
    }
   ],
   "source": [
    "# Handling missing keys in Course_info\n",
    "print(course_info.get('Email','Not in dictionary'))"
   ]
  },
  {
   "cell_type": "code",
   "execution_count": null,
   "id": "885c8d97-a275-497b-8c47-832dac580824",
   "metadata": {},
   "outputs": [],
   "source": []
  }
 ],
 "metadata": {
  "kernelspec": {
   "display_name": "Python 3 (ipykernel)",
   "language": "python",
   "name": "python3"
  },
  "language_info": {
   "codemirror_mode": {
    "name": "ipython",
    "version": 3
   },
   "file_extension": ".py",
   "mimetype": "text/x-python",
   "name": "python",
   "nbconvert_exporter": "python",
   "pygments_lexer": "ipython3",
   "version": "3.12.4"
  }
 },
 "nbformat": 4,
 "nbformat_minor": 5
}
